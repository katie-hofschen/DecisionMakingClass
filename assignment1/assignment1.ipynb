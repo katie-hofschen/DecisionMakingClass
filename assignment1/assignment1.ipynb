{
 "cells": [
  {
   "cell_type": "markdown",
   "metadata": {
    "collapsed": true,
    "pycharm": {
     "name": "#%% md\n"
    }
   },
   "source": [
    "# Assignment 1.1\n",
    "\n",
    "## Decide to gamble or not\n",
    "\n",
    "Simple Poisson model:\n",
    "- all previous matches of 2 teams\n",
    "- disregarding whether home or away\n",
    "- disregarding conceded goals of the teams\n",
    "\n",
    "Write Functions:\n",
    "* exact_score_odds(csv_file, team1,team2, gh, ga) -> returns the predicted exact score gh-ga in the match team1 against team2\n",
    "* pred_1X2(csv_file, team1, team2) -> returns the tuple (odds that team1 wins, odds of draw, odds of team2 wins)\n",
    "* exact_score_odds_alt(team1,team2, gh, ga) and pred_1X2_alt(team1, team2) <br /> implementing your own take on the problem of predicting the odds of an exact score of a game, and the odds of the home win, draw, and away win events."
   ]
  },
  {
   "cell_type": "code",
   "execution_count": 86,
   "outputs": [],
   "source": [
    "import pandas as pd\n",
    "import numpy as np\n",
    "import readcsv"
   ],
   "metadata": {
    "collapsed": false,
    "pycharm": {
     "name": "#%%\n"
    }
   }
  },
  {
   "cell_type": "code",
   "execution_count": 87,
   "outputs": [],
   "source": [
    "def goalStatsDf(csv):\n",
    "    rcsv = readcsv.ReadCSV(\"I1.csv\")\n",
    "    entire_df = pd.read_csv(csv)\n",
    "    all_teams = np.sort(entire_df.AwayTeam.unique())\n",
    "    team_stats = []\n",
    "\n",
    "    for team in all_teams:\n",
    "        team_stats.append((team,) + rcsv.goals_statistics(team))\n",
    "    goalstat_df = pd.DataFrame(team_stats, columns = [\"team\", \"scoredGoals\", \"concededGoals\", \"numMatches\", \"scoredHome\", \"concededHome\", \"numMatchesHome\", \"scoredAway\", \"concededAway\", \"numMatchesAway\"])\n",
    "    return goalstat_df\n"
   ],
   "metadata": {
    "collapsed": false,
    "pycharm": {
     "name": "#%%\n"
    }
   }
  },
  {
   "cell_type": "code",
   "execution_count": 88,
   "outputs": [],
   "source": [
    "def poissonProb(avgNumEvents, observedEvents):\n",
    "    numerator = np.math.pow(avgNumEvents,observedEvents) * np.math.pow(np.math.e, (-avgNumEvents))\n",
    "    denominator = np.math.factorial(observedEvents)\n",
    "    probObserved = numerator / denominator\n",
    "    return probObserved"
   ],
   "metadata": {
    "collapsed": false,
    "pycharm": {
     "name": "#%%\n"
    }
   }
  },
  {
   "cell_type": "markdown",
   "source": [
    "# 1) Exact score odds"
   ],
   "metadata": {
    "collapsed": false,
    "pycharm": {
     "name": "#%% md\n"
    }
   }
  },
  {
   "cell_type": "code",
   "execution_count": 89,
   "outputs": [],
   "source": [
    "def exact_score_odds(csv_file, team1, team2, goalsHome, goalsAway):\n",
    "    # exact_score_odds(csv_file, team1,team2, gh, ga) -> returns the predicted exact score goalsHome-goalsAway in the match team1 against team2\n",
    "    summary_df = goalStatsDf(csv_file)\n",
    "    avgT1 = np.around(summary_df.loc[summary_df[\"team\"] == team1, \"scoredGoals\"].values[0] / summary_df.loc[summary_df[\"team\"] == team1, \"numMatches\"].values[0], 3)\n",
    "    avgT2 = np.around(summary_df.loc[summary_df[\"team\"] == team2, \"scoredGoals\"].values[0] / summary_df.loc[summary_df[\"team\"] == team2, \"numMatches\"].values[0], 3)\n",
    "    odds = 1 / (poissonProb(avgT1, goalsHome) * poissonProb(avgT2, goalsAway))\n",
    "    return odds"
   ],
   "metadata": {
    "collapsed": false,
    "pycharm": {
     "name": "#%%\n"
    }
   }
  },
  {
   "cell_type": "markdown",
   "source": [
    "### Bookmaker odds\n",
    "Spezia - Salernitana, exact score 2 - 1, odds 12.00\n",
    "Lazio - Inter, exact score 1 - 2, odds 9.50\n",
    "AC Milan - Verona, exact score 1 - 0, odds 12.50\n",
    "AC Milan - Verona, exact score 1 - 1, odds 10.00"
   ],
   "metadata": {
    "collapsed": false,
    "pycharm": {
     "name": "#%% md\n"
    }
   }
  },
  {
   "cell_type": "code",
   "execution_count": 90,
   "outputs": [
    {
     "data": {
      "text/plain": "12.65073978542058"
     },
     "execution_count": 90,
     "metadata": {},
     "output_type": "execute_result"
    }
   ],
   "source": [
    "exact_score_odds(\"I1.csv\", \"Venezia\", \"Fiorentina\", 1, 2)"
   ],
   "metadata": {
    "collapsed": false,
    "pycharm": {
     "name": "#%%\n"
    }
   }
  },
  {
   "cell_type": "markdown",
   "source": [
    "# Odds calculated by method 1)\n",
    "Spezia - Salernitana, exact score 2 - 1, odds 12.208\n",
    "Lazio - Inter, exact score 1 - 2, odds 12.41\n",
    "AC Milan - Verona, exact score 1 - 0, odds 13.26\n",
    "AC Milan - Verona, exact score 1 - 1, odds 10.288\n",
    "\n",
    "In other words according to the odds produced with [lambda = scored goals/ numMatches] these odds are slightly lower than the bookmakers odds."
   ],
   "metadata": {
    "collapsed": false,
    "pycharm": {
     "name": "#%% md\n"
    }
   }
  },
  {
   "cell_type": "markdown",
   "source": [
    "# 2) Prediction of Win, Draw, Loss"
   ],
   "metadata": {
    "collapsed": false,
    "pycharm": {
     "name": "#%% md\n"
    }
   }
  },
  {
   "cell_type": "code",
   "execution_count": 100,
   "outputs": [
    {
     "data": {
      "text/plain": "array([[7.25000000e+00, 5.72200000e+00, 9.03300000e+00, 2.13870000e+01,\n        6.75220000e+01, 2.66462000e+02],\n       [1.01540000e+01, 8.01400000e+00, 1.26510000e+01, 2.99540000e+01,\n        9.45680000e+01, 3.73196000e+02],\n       [2.84430000e+01, 2.24490000e+01, 3.54360000e+01, 8.39060000e+01,\n        2.64896000e+02, 1.04536800e+03],\n       [1.19507000e+02, 9.43230000e+01, 1.48892000e+02, 3.52546000e+02,\n        1.11300900e+03, 4.39230200e+03],\n       [6.69508000e+02, 5.28420000e+02, 8.34128000e+02, 1.97504600e+03,\n        6.23534600e+03, 2.46067320e+04],\n       [4.68843100e+03, 3.70041900e+03, 5.84123000e+03, 1.38308530e+04,\n        4.36648870e+04, 1.72316049e+05]])"
     },
     "execution_count": 100,
     "metadata": {},
     "output_type": "execute_result"
    }
   ],
   "source": [
    "def oddsMatrix(csv, homeTeam, awayTeam):\n",
    "    # pred_1X2(csv_file, team1, team2) -> returns the tuple (odds that team1 wins, odds of draw, odds of team2 wins)\n",
    "    # after analysing the sports df you can see that 7 goals was the max but it is so unlikely/close to 0% that it causes division errors\n",
    "    oddsMatrix = np.zeros((6,6))\n",
    "    for h in range(0,6):\n",
    "        for a in range(0,6):\n",
    "            oddsMatrix[h,a] = np.around(exact_score_odds(csv, homeTeam, awayTeam, h, a),3)\n",
    "    return oddsMatrix\n",
    "\n",
    "oddsMatrix(\"I1.csv\", \"Venezia\", \"Fiorentina\")"
   ],
   "metadata": {
    "collapsed": false,
    "pycharm": {
     "name": "#%%\n"
    }
   }
  },
  {
   "cell_type": "code",
   "execution_count": 92,
   "outputs": [
    {
     "data": {
      "text/plain": "(4.768717215069147, 3.402517863218782, 2.0230629172567265)"
     },
     "execution_count": 92,
     "metadata": {},
     "output_type": "execute_result"
    }
   ],
   "source": [
    "def pred_1X2(csv,homeTeam, awayTeam):\n",
    "    matrix = 100/oddsMatrix(csv,homeTeam, awayTeam)\n",
    "    oddsDraw = np.around(np.diagonal(matrix).sum(),2)\n",
    "    oddsLoss = np.around(np.triu(matrix, k=1).sum(),2)\n",
    "    oddsWin = np.around(np.tril(matrix, k=-1).sum(),2)\n",
    "    return ((100/oddsWin),(100/oddsDraw),(100/oddsLoss))\n",
    "\n",
    "pred_1X2(\"I1.csv\",\"Venezia\", \"Fiorentina\")"
   ],
   "metadata": {
    "collapsed": false,
    "pycharm": {
     "name": "#%%\n"
    }
   }
  },
  {
   "cell_type": "markdown",
   "source": [
    "# Own solution\n",
    "\n",
    "Using the average of goals scored per overall matches works but you can get better results if you take into account also the goals conceded and whether these where scored/conceded at home games versus away games. Essentially we are taking into account the attack and defense strength at home and away of both the teams."
   ],
   "metadata": {
    "collapsed": false,
    "pycharm": {
     "name": "#%% md\n"
    }
   }
  },
  {
   "cell_type": "code",
   "execution_count": 93,
   "outputs": [],
   "source": [
    "def all_matchesStats(csv_file):\n",
    "    # this function returns avg of goals scored/conceded overall at home and also the same averages for away\n",
    "    summary_df = goalStatsDf(csv_file)\n",
    "    totalscoredHomeAvg = summary_df[\"scoredHome\"].sum() / summary_df[\"numMatchesHome\"].sum()\n",
    "    totalconcededHomeAvg = summary_df[\"concededHome\"].sum() / summary_df[\"numMatchesHome\"].sum()\n",
    "    totalscoredAwayAvg = summary_df[\"scoredAway\"].sum() / summary_df[\"numMatchesAway\"].sum()\n",
    "    totalconcededAwayAvg = summary_df[\"concededAway\"].sum() / summary_df[\"numMatchesAway\"].sum()\n",
    "    # if correct totalscoredHomeAvg should be the same as totalconcededAway\n",
    "    return (totalscoredHomeAvg, totalconcededHomeAvg, totalscoredAwayAvg, totalconcededAwayAvg)"
   ],
   "metadata": {
    "collapsed": false,
    "pycharm": {
     "name": "#%%\n"
    }
   }
  },
  {
   "cell_type": "code",
   "execution_count": 94,
   "outputs": [
    {
     "data": {
      "text/plain": "(1.6377777777777778,\n 1.4377777777777778,\n 1.4377777777777778,\n 1.6377777777777778)"
     },
     "execution_count": 94,
     "metadata": {},
     "output_type": "execute_result"
    }
   ],
   "source": [
    "all_matchesStats(\"I1.csv\")"
   ],
   "metadata": {
    "collapsed": false,
    "pycharm": {
     "name": "#%%\n"
    }
   }
  },
  {
   "cell_type": "code",
   "execution_count": 124,
   "outputs": [],
   "source": [
    "def exact_score_odds_alt(csv_file, homeTeam, awayTeam, homeGoals, awayGoals):\n",
    "    summary_df = goalStatsDf(csv_file)\n",
    "    totalAverages = all_matchesStats(csv_file)\n",
    "\n",
    "    # calculating the Attack strength and defensive strengths in comparison to the overall averages\n",
    "    avgHomeScore = np.around(summary_df.loc[summary_df[\"team\"] == homeTeam, \"scoredHome\"].values[0] / summary_df.loc[summary_df[\"team\"] == homeTeam, \"numMatchesHome\"].values[0], 3)\n",
    "    homeAttackAvg = avgHomeScore / totalAverages[0]\n",
    "    avgHomeConcede = np.around(summary_df.loc[summary_df[\"team\"] == homeTeam, \"concededHome\"].values[0] / summary_df.loc[summary_df[\"team\"] == homeTeam, \"numMatchesHome\"].values[0], 3)\n",
    "    homeDefenseAvg = avgHomeConcede / totalAverages[1]\n",
    "    avgAwayScore = np.around(summary_df.loc[summary_df[\"team\"] == awayTeam, \"scoredAway\"].values[0] / summary_df.loc[summary_df[\"team\"] == awayTeam, \"numMatchesAway\"].values[0], 3)\n",
    "    awayAttackAvg = avgAwayScore / totalAverages[2]\n",
    "    avgAwayConcede = np.around(summary_df.loc[summary_df[\"team\"] == awayTeam, \"concededAway\"].values[0] / summary_df.loc[summary_df[\"team\"] == awayTeam, \"numMatchesAway\"].values[0], 3)\n",
    "    awayDefenseAvg = avgAwayConcede / totalAverages[3]\n",
    "    lambdaHome = homeAttackAvg * awayDefenseAvg * totalAverages[0]\n",
    "    lambdaAway = homeDefenseAvg * awayAttackAvg * totalAverages[1]\n",
    "    #to verify what average for home goals vs away goals are\n",
    "    #print(lambdaHome, lambdaAway)\n",
    "    oddsOutcome = 1 / (np.around(poissonProb(lambdaHome, homeGoals),4) * np.around(poissonProb(lambdaAway, awayGoals),4))\n",
    "    return np.around(oddsOutcome,3)"
   ],
   "metadata": {
    "collapsed": false,
    "pycharm": {
     "name": "#%%\n"
    }
   }
  },
  {
   "cell_type": "code",
   "execution_count": 125,
   "outputs": [
    {
     "data": {
      "text/plain": "20.472"
     },
     "execution_count": 125,
     "metadata": {},
     "output_type": "execute_result"
    }
   ],
   "source": [
    "exact_score_odds_alt(\"I1.csv\", \"Lazio\", \"Inter\", 0, 0)"
   ],
   "metadata": {
    "collapsed": false,
    "pycharm": {
     "name": "#%%\n"
    }
   }
  },
  {
   "cell_type": "markdown",
   "source": [
    "# Odds calculated by alternative method\n",
    "Spezia - Salernitana, exact score 2 - 1, odds 10.426\n",
    "Lazio - Inter, exact score 1 - 2, odds 10.461\n",
    "AC Milan - Verona, exact score 1 - 0, odds 8.241\n",
    "AC Milan - Verona, exact score 1 - 1, odds 8.192\n",
    "\n",
    "In this method it seems like the games of Spezia and Milan have slightly better odds than the bookmaker assumes which suggests you might win more money."
   ],
   "metadata": {
    "collapsed": false,
    "pycharm": {
     "name": "#%% md\n"
    }
   }
  },
  {
   "cell_type": "code",
   "execution_count": 133,
   "outputs": [
    {
     "data": {
      "text/plain": "array([[1.0028000e+01, 7.8970000e+00, 1.2442000e+01, 2.9404000e+01,\n        9.2661000e+01, 3.6583100e+02],\n       [9.6820000e+00, 7.6240000e+00, 1.2012000e+01, 2.8388000e+01,\n        8.9461000e+01, 3.5319600e+02],\n       [1.8697000e+01, 1.4724000e+01, 2.3198000e+01, 5.4824000e+01,\n        1.7276600e+02, 6.8209100e+02],\n       [5.4185000e+01, 4.2671000e+01, 6.7229000e+01, 1.5888000e+02,\n        5.0068100e+02, 1.9767140e+03],\n       [2.0941100e+02, 1.6491000e+02, 2.5982100e+02, 6.1402400e+02,\n        1.9349850e+03, 7.6394190e+03],\n       [1.0171390e+03, 8.0099300e+02, 1.2619890e+03, 2.9824040e+03,\n        9.3984960e+03, 3.7105751e+04]])"
     },
     "execution_count": 133,
     "metadata": {},
     "output_type": "execute_result"
    }
   ],
   "source": [
    "def oddsMatrixAlt(csv, homeTeam, awayTeam):\n",
    "    # pred_1X2(csv_file, team1, team2) -> returns the tuple (odds that team1 wins, odds of draw, odds of team2 wins)\n",
    "    # after analysing the sports df you can see that 7 goals was the max but it is so unlikely/close to 0% that it causes division errors\n",
    "    oddsMatrix = np.zeros((6,6))\n",
    "    for h in range(0,6):\n",
    "        for a in range(0,6):\n",
    "            oddsMatrix[h,a] = np.around(exact_score_odds_alt(csv, homeTeam, awayTeam, h, a),3)\n",
    "    return oddsMatrix\n",
    "\n",
    "oddsMatrixAlt(\"I1.csv\", \"Venezia\", \"Fiorentina\")"
   ],
   "metadata": {
    "collapsed": false,
    "pycharm": {
     "name": "#%%\n"
    }
   }
  },
  {
   "cell_type": "code",
   "execution_count": 109,
   "outputs": [
    {
     "data": {
      "text/plain": "(3.3200531208499333, 3.5612535612535616, 2.4084778420038533)"
     },
     "execution_count": 109,
     "metadata": {},
     "output_type": "execute_result"
    }
   ],
   "source": [
    "def pred_1X2_alt(csv,homeTeam, awayTeam):\n",
    "    matrix = 100/oddsMatrixAlt(csv,homeTeam, awayTeam)\n",
    "    oddsDraw = 100/np.around(np.diagonal(matrix).sum(),2)\n",
    "    oddsLoss = 100/np.around(np.triu(matrix, k=1).sum(),2)\n",
    "    oddsWin = 100/np.around(np.tril(matrix, k=-1).sum(),2)\n",
    "    return (oddsWin,oddsDraw,oddsLoss)\n",
    "\n",
    "pred_1X2_alt(\"I1.csv\",\"Venezia\", \"Fiorentina\")"
   ],
   "metadata": {
    "collapsed": false,
    "pycharm": {
     "name": "#%%\n"
    }
   }
  },
  {
   "cell_type": "code",
   "execution_count": 130,
   "outputs": [
    {
     "name": "stdout",
     "output_type": "stream",
     "text": [
      "['Atalanta' 'Benevento' 'Bologna' 'Cagliari' 'Crotone' 'Empoli'\n",
      " 'Fiorentina' 'Genoa' 'Inter' 'Juventus' 'Lazio' 'Milan' 'Napoli' 'Parma'\n",
      " 'Roma' 'Salernitana' 'Sampdoria' 'Sassuolo' 'Spezia' 'Torino' 'Udinese'\n",
      " 'Venezia' 'Verona']\n"
     ]
    }
   ],
   "source": [
    "entire_df = pd.read_csv(\"I1.csv\")\n",
    "all_teams = np.sort(entire_df.AwayTeam.unique())\n",
    "print(all_teams)"
   ],
   "metadata": {
    "collapsed": false,
    "pycharm": {
     "name": "#%%\n"
    }
   }
  },
  {
   "cell_type": "code",
   "execution_count": 134,
   "outputs": [
    {
     "name": "stdout",
     "output_type": "stream",
     "text": [
      "Atalanta - Benevento  (1.4779781259237363, 6.605019815059445, 8.8261253309797)\n",
      "Bologna - Napoli  (6.002400960384153, 5.361930294906166, 1.6289297931259163)\n",
      "Parma - Roma  (6.253908692933083, 5.173305742369375, 1.6100466913540492)\n",
      "Genoa - Juventus  (5.9523809523809526, 5.186721991701244, 1.6350555918901244)\n"
     ]
    }
   ],
   "source": [
    "# Since it takes quite a while to compute: for the quantitative analysis I need to resort to sampling\n",
    "print(\"Atalanta - Benevento \", pred_1X2_alt(\"I1.csv\",\"Atalanta\", \"Benevento\"))\n",
    "print(\"Bologna - Napoli \", pred_1X2_alt(\"I1.csv\",\"Bologna\", \"Napoli\"))\n",
    "print(\"Parma - Roma \", pred_1X2_alt(\"I1.csv\",\"Parma\", \"Roma\"))\n",
    "print(\"Genoa - Juventus \", pred_1X2_alt(\"I1.csv\",\"Genoa\", \"Juventus\"))"
   ],
   "metadata": {
    "collapsed": false,
    "pycharm": {
     "name": "#%%\n"
    }
   }
  },
  {
   "cell_type": "code",
   "execution_count": 132,
   "outputs": [
    {
     "name": "stdout",
     "output_type": "stream",
     "text": [
      "Atalanta - Benevento  (1.6331863465621428, 5.162622612287041, 5.977286312014345)\n",
      "Bologna - Napoli  (4.504504504504505, 5.107252298263535, 1.8231540565177757)\n",
      "Parma - Roma  (4.894762604013706, 4.452359750667854, 1.7914725904693658)\n",
      "Genoa - Juventus  (4.095004095004095, 4.557885141294439, 1.9252984212552946)\n"
     ]
    }
   ],
   "source": [
    "print(\"The odds show odds of Home win, draw and Awayteam win\")\n",
    "print(\"Atalanta - Benevento \", pred_1X2(\"I1.csv\", \"Atalanta\", \"Benevento\"))\n",
    "print(\"Bologna - Napoli \", pred_1X2(\"I1.csv\", \"Bologna\", \"Napoli\"))\n",
    "print(\"Parma - Roma \", pred_1X2(\"I1.csv\", \"Parma\", \"Roma\"))\n",
    "print(\"Genoa - Juventus \", pred_1X2(\"I1.csv\", \"Genoa\", \"Juventus\"))"
   ],
   "metadata": {
    "collapsed": false,
    "pycharm": {
     "name": "#%%\n"
    }
   }
  }
 ],
 "metadata": {
  "kernelspec": {
   "name": "pycharm-42b0cc7f",
   "language": "python",
   "display_name": "PyCharm (DecisionMaking)"
  },
  "language_info": {
   "codemirror_mode": {
    "name": "ipython",
    "version": 2
   },
   "file_extension": ".py",
   "mimetype": "text/x-python",
   "name": "python",
   "nbconvert_exporter": "python",
   "pygments_lexer": "ipython2",
   "version": "2.7.6"
  }
 },
 "nbformat": 4,
 "nbformat_minor": 0
}